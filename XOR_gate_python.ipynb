{
 "cells": [
  {
   "cell_type": "code",
   "execution_count": 35,
   "metadata": {},
   "outputs": [],
   "source": [
    "import numpy as np"
   ]
  },
  {
   "cell_type": "markdown",
   "metadata": {},
   "source": [
    "1. Input data\n",
    "\n",
    "2. Linear combination (W*x + b)\n",
    "\n",
    "3. Activation function (sigmoid)\n",
    "\n",
    "4. Loss funtion (MSE)\n",
    "\n",
    "5. Optimization (gradient descent)\n",
    "\n",
    "6. Prediction"
   ]
  },
  {
   "cell_type": "markdown",
   "metadata": {},
   "source": [
    "# 1. Input data"
   ]
  },
  {
   "cell_type": "code",
   "execution_count": 36,
   "metadata": {},
   "outputs": [
    {
     "data": {
      "text/plain": [
       "array([[0, 0],\n",
       "       [0, 1],\n",
       "       [1, 0],\n",
       "       [1, 1]])"
      ]
     },
     "execution_count": 36,
     "metadata": {},
     "output_type": "execute_result"
    }
   ],
   "source": [
    "x = np.array([[0,0], [0,1], [1,0], [1,1]])\n",
    "x"
   ]
  },
  {
   "cell_type": "markdown",
   "metadata": {},
   "source": [
    "# 2. Linear combination (W*x + b)"
   ]
  },
  {
   "cell_type": "code",
   "execution_count": 37,
   "metadata": {},
   "outputs": [],
   "source": [
    "def linear_c(x):\n",
    "    W = np.random.randn(2)\n",
    "    b = np.random.randn(1)\n",
    "\n",
    "    return np.dot(W, x) + b"
   ]
  },
  {
   "cell_type": "markdown",
   "metadata": {},
   "source": [
    "# 3. Activation function (sigmoid)"
   ]
  },
  {
   "cell_type": "code",
   "execution_count": 38,
   "metadata": {},
   "outputs": [],
   "source": [
    "def sigmoid(a):\n",
    "    return 1 / (1 + np.exp(a))"
   ]
  },
  {
   "cell_type": "markdown",
   "metadata": {},
   "source": [
    "# 4. Loss funtion (MSE)"
   ]
  },
  {
   "cell_type": "code",
   "execution_count": 39,
   "metadata": {},
   "outputs": [],
   "source": [
    "def MSE(pred_x, true_x):\n",
    "    return 0.5 * np.sum((pred_x - true_x)**2)"
   ]
  },
  {
   "cell_type": "markdown",
   "metadata": {},
   "source": [
    "# 5. Optimization (gradient descent)"
   ]
  },
  {
   "cell_type": "code",
   "execution_count": 40,
   "metadata": {},
   "outputs": [],
   "source": [
    "# new_w = old_w - learning_rate * df_dx\n",
    "\n",
    "def grad(f, x, learning_rate = 1e-5):\n",
    "    \n",
    "    def df_dx(f, x):\n",
    "        h = 1e-7\n",
    "        f_x = f(x)\n",
    "        f_x_h = f(x+h)\n",
    "\n",
    "        return (f_x_h - f_x) / h\n",
    "    \n",
    "    new_x = x - learning_rate * df_dx(f, x)\n",
    "    \n",
    "    return new_x\n"
   ]
  },
  {
   "cell_type": "markdown",
   "metadata": {},
   "source": [
    "# 6. Prediction"
   ]
  },
  {
   "cell_type": "markdown",
   "metadata": {},
   "source": [
    "Logit_gate라는 Class를 만들어서 1~5 과정을 전부 다 집어넣고 fit 메서드를 추가로 만들어서 학습을 가능하게 만듦."
   ]
  },
  {
   "cell_type": "markdown",
   "metadata": {},
   "source": [
    "Class Logit_gate():  \n",
    "    1. weight_init()  \n",
    "    2. linear_combi()  \n",
    "    3. activation_function() * sigmoid  \n",
    "    4. loss_function() * MSE  \n",
    "    5. optimaiztion() * gradient descent  \n",
    "    6. fit  \n",
    "    7. prediction  "
   ]
  },
  {
   "cell_type": "code",
   "execution_count": 41,
   "metadata": {},
   "outputs": [],
   "source": [
    "import numpy as np\n",
    "\n",
    "def sigmoid(a):\n",
    "    return 1 / (1 + np.exp(-a))\n",
    "\n",
    "\n",
    "\n",
    "class Logit_gate():\n",
    "    def __init__(self, learning_rate = 1e-1, activation = 'sigmoid', loss = 'MSE', opt = 'gradient', epochs = 1000) -> None:\n",
    "        def weight_init():\n",
    "            W = np.random.randn(2, 1)\n",
    "            b = np.random.randn(1)\n",
    "\n",
    "            return W, b\n",
    "        \n",
    "        self.W, self.b = weight_init()\n",
    "        self.lr = learning_rate\n",
    "        self.act_f = activation\n",
    "        self.loss_f = loss\n",
    "        self.opt = opt\n",
    "        self.epochs = epochs\n",
    "\n",
    "    def forpass(self, x):\n",
    "        return self.activation_funtion(self.linear_combination(x))\n",
    "\n",
    "\n",
    "    def backprop(self, x, err):\n",
    "        m = len(x)\n",
    "        w_grad = np.dot(x.T, err) / m\n",
    "        b_grad = np.sum(err) / m\n",
    "        return w_grad, b_grad\n",
    "\n",
    "\n",
    "    def linear_combination(self, X):\n",
    "        a = np.dot(X, self.W) + self.b\n",
    "        return a\n",
    "\n",
    "\n",
    "    def activation_funtion(self, a): # sigmoid\n",
    "        if self.act_f == 'sigmoid':\n",
    "            return sigmoid(a)\n",
    "\n",
    "\n",
    "    def loss_funtion(self, x, y): # MSE\n",
    "        if self.loss_f == 'MSE':\n",
    "            return 0.5 * np.mean(np.sum((y - self.forpass(x))**2))\n",
    "\n",
    "\n",
    "    def optimization(self, x, y): # gradient descent\n",
    "        if self.opt == 'gradient':\n",
    "            for i in range(self.epochs):\n",
    "                err = -(y - self.forpass(x))\n",
    "                w_gard, b_gard = self.backprop(x, err)\n",
    "                self.W -= w_gard * self.lr\n",
    "                self.b -= b_gard * self.lr\n",
    "\n",
    "\n",
    "    def fit(self, X, y):\n",
    "        self.optimization(X, y)\n",
    "    \n",
    "\n",
    "    def prediction(self, X):\n",
    "        return self.activation_funtion(np.dot(X, self.W) + self.b)\n",
    "           "
   ]
  },
  {
   "cell_type": "code",
   "execution_count": 42,
   "metadata": {},
   "outputs": [
    {
     "data": {
      "text/plain": [
       "array([[0.17782113],\n",
       "       [0.92774729],\n",
       "       [0.93395067],\n",
       "       [0.99881021]])"
      ]
     },
     "execution_count": 42,
     "metadata": {},
     "output_type": "execute_result"
    }
   ],
   "source": [
    "OR = Logit_gate()\n",
    "\n",
    "x_or = np.array([[0,0], [0,1], [1,0], [1,1]])\n",
    "y_or = np.array([[0], [1], [1], [1]])\n",
    "\n",
    "OR.fit(x_or, y_or)\n",
    "\n",
    "OR.prediction(x_or)"
   ]
  },
  {
   "cell_type": "code",
   "execution_count": 43,
   "metadata": {},
   "outputs": [
    {
     "data": {
      "text/plain": [
       "array([[0.00650694],\n",
       "       [0.13887537],\n",
       "       [0.14058824],\n",
       "       [0.80111572]])"
      ]
     },
     "execution_count": 43,
     "metadata": {},
     "output_type": "execute_result"
    }
   ],
   "source": [
    "AND = Logit_gate()\n",
    "\n",
    "x_and = np.array([[0,0], [0,1], [1,0], [1,1]])\n",
    "y_and = np.array([[0], [0], [0], [1]])\n",
    "\n",
    "AND.fit(x_and, y_and)\n",
    "\n",
    "AND.prediction(x_and)"
   ]
  },
  {
   "cell_type": "code",
   "execution_count": 44,
   "metadata": {},
   "outputs": [
    {
     "data": {
      "text/plain": [
       "array([[0.82508587],\n",
       "       [0.06814085],\n",
       "       [0.06808716],\n",
       "       [0.00113131]])"
      ]
     },
     "execution_count": 44,
     "metadata": {},
     "output_type": "execute_result"
    }
   ],
   "source": [
    "NOR = Logit_gate()\n",
    "\n",
    "x_nor = np.array([[0,0], [0,1], [1,0], [1,1]])\n",
    "y_nor = np.array([[1], [0], [0], [0]])\n",
    "\n",
    "NOR.fit(x_nor, y_nor)\n",
    "\n",
    "NOR.prediction(x_nor)"
   ]
  },
  {
   "cell_type": "code",
   "execution_count": 45,
   "metadata": {},
   "outputs": [
    {
     "data": {
      "text/plain": [
       "array([[0.99072702],\n",
       "       [0.84606005],\n",
       "       [0.84591147],\n",
       "       [0.22021407]])"
      ]
     },
     "execution_count": 45,
     "metadata": {},
     "output_type": "execute_result"
    }
   ],
   "source": [
    "NAND = Logit_gate()\n",
    "\n",
    "x_nand = np.array([[0,0], [0,1], [1,0], [1,1]])\n",
    "y_nand = np.array([[1], [1], [1], [0]])\n",
    "\n",
    "NAND.fit(x_nand, y_nand)\n",
    "\n",
    "NAND.prediction(x_nand)"
   ]
  },
  {
   "cell_type": "code",
   "execution_count": 80,
   "metadata": {},
   "outputs": [
    {
     "data": {
      "text/plain": [
       "array([[0.21916002],\n",
       "       [0.66070474],\n",
       "       [0.66503909],\n",
       "       [0.24604145]])"
      ]
     },
     "execution_count": 80,
     "metadata": {},
     "output_type": "execute_result"
    }
   ],
   "source": [
    "# XOR gate\n",
    "\n",
    "x = np.array([[0,0], [0,1], [1,0], [1,1]])\n",
    "\n",
    "x_by_nand = NAND.prediction(x)\n",
    "x_by_or = OR.prediction(x)\n",
    "\n",
    "# x_xor = np.concatenate((x_by_nand, x_by_or), axis=1).reshape(4,2)\n",
    "x_xor = np.array([x_by_nand, x_by_or]).T.reshape(-1, 2)\n",
    "\n",
    "AND.prediction(x_xor)"
   ]
  }
 ],
 "metadata": {
  "kernelspec": {
   "display_name": "Python 3",
   "language": "python",
   "name": "python3"
  },
  "language_info": {
   "codemirror_mode": {
    "name": "ipython",
    "version": 3
   },
   "file_extension": ".py",
   "mimetype": "text/x-python",
   "name": "python",
   "nbconvert_exporter": "python",
   "pygments_lexer": "ipython3",
   "version": "3.10.7"
  },
  "orig_nbformat": 4
 },
 "nbformat": 4,
 "nbformat_minor": 2
}
