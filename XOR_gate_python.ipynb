{
 "cells": [
  {
   "cell_type": "markdown",
   "metadata": {},
   "source": [
    "1. Input data\n",
    "\n",
    "2. Linear combination (W*x + b)\n",
    "\n",
    "3. Activation function (sigmoid)\n",
    "\n",
    "4. Loss funtion (MSE)\n",
    "\n",
    "5. Optimization (gradient descent)\n",
    "\n",
    "6. Prediction"
   ]
  },
  {
   "cell_type": "markdown",
   "metadata": {},
   "source": [
    "# Class Logit_gate"
   ]
  },
  {
   "cell_type": "markdown",
   "metadata": {},
   "source": [
    "Class Logit_gate():  \n",
    "\n",
    "1. weight_init  \n",
    "2. linear_combilinear_combination  \n",
    "  a. forpass  \n",
    "  b. backprop  \n",
    "3. activation_function * sigmoid    \n",
    "  a. sigmoid  \n",
    "4. loss_function * MSE    \n",
    "5. optimaiztion * gradient descent    \n",
    "6. fit    \n",
    "7. prediction    "
   ]
  },
  {
   "cell_type": "code",
   "execution_count": 1,
   "metadata": {},
   "outputs": [],
   "source": [
    "import numpy as np\n",
    "\n",
    "def sigmoid(a):\n",
    "    return 1 / (1 + np.exp(-a))\n",
    "\n",
    "\n",
    "\n",
    "class Logit_gate():\n",
    "    def __init__(self, learning_rate = 1e-1, activation = 'sigmoid', loss = 'MSE', opt = 'gradient', epochs = 1000) -> None:\n",
    "        def weight_init():\n",
    "            W = np.random.randn(2, 1)\n",
    "            b = np.random.randn(1)\n",
    "\n",
    "            return W, b\n",
    "        \n",
    "        self.W, self.b = weight_init()\n",
    "        self.lr = learning_rate\n",
    "        self.act_f = activation\n",
    "        self.loss_f = loss\n",
    "        self.opt = opt\n",
    "        self.epochs = epochs\n",
    "\n",
    "\n",
    "    def forpass(self, x):\n",
    "        return self.activation_funtion(self.linear_combination(x))\n",
    "\n",
    "\n",
    "    def backprop(self, x, err):\n",
    "        m = len(x)\n",
    "        w_grad = np.dot(x.T, err) / m\n",
    "        b_grad = np.sum(err) / m\n",
    "        return w_grad, b_grad\n",
    "\n",
    "\n",
    "    def linear_combination(self, X):\n",
    "        a = np.dot(X, self.W) + self.b\n",
    "        return a\n",
    "\n",
    "\n",
    "    def activation_funtion(self, a): # sigmoid\n",
    "        if self.act_f == 'sigmoid':\n",
    "            return sigmoid(a)\n",
    "\n",
    "\n",
    "    def loss_funtion(self, x, y): # MSE\n",
    "        if self.loss_f == 'MSE':\n",
    "            return 0.5 * np.mean(np.sum((y - self.forpass(x))**2))\n",
    "\n",
    "\n",
    "    def optimization(self, x, y): # gradient descent\n",
    "        if self.opt == 'gradient':\n",
    "            for i in range(self.epochs):\n",
    "                err = -(y - self.forpass(x))\n",
    "                w_gard, b_gard = self.backprop(x, err)\n",
    "                self.W -= w_gard * self.lr\n",
    "                self.b -= b_gard * self.lr\n",
    "\n",
    "\n",
    "    def fit(self, X, y):\n",
    "        self.optimization(X, y)\n",
    "    \n",
    "\n",
    "    def prediction(self, X):\n",
    "        return self.activation_funtion(np.dot(X, self.W) + self.b)\n",
    "           "
   ]
  },
  {
   "cell_type": "code",
   "execution_count": 2,
   "metadata": {},
   "outputs": [
    {
     "data": {
      "text/plain": [
       "array([[0.18357803],\n",
       "       [0.92556201],\n",
       "       [0.9318844 ],\n",
       "       [0.9986799 ]])"
      ]
     },
     "execution_count": 2,
     "metadata": {},
     "output_type": "execute_result"
    }
   ],
   "source": [
    "OR = Logit_gate()\n",
    "\n",
    "x_or = np.array([[0,0], [0,1], [1,0], [1,1]])\n",
    "y_or = np.array([[0], [1], [1], [1]])\n",
    "\n",
    "OR.fit(x_or, y_or)\n",
    "\n",
    "OR.prediction(x_or)"
   ]
  },
  {
   "cell_type": "code",
   "execution_count": 3,
   "metadata": {},
   "outputs": [
    {
     "data": {
      "text/plain": [
       "array([[0.00802803],\n",
       "       [0.14942949],\n",
       "       [0.14671914],\n",
       "       [0.78869959]])"
      ]
     },
     "execution_count": 3,
     "metadata": {},
     "output_type": "execute_result"
    }
   ],
   "source": [
    "AND = Logit_gate()\n",
    "\n",
    "x_and = np.array([[0,0], [0,1], [1,0], [1,1]])\n",
    "y_and = np.array([[0], [0], [0], [1]])\n",
    "\n",
    "AND.fit(x_and, y_and)\n",
    "\n",
    "AND.prediction(x_and)"
   ]
  },
  {
   "cell_type": "code",
   "execution_count": 4,
   "metadata": {},
   "outputs": [
    {
     "data": {
      "text/plain": [
       "array([[0.79145218],\n",
       "       [0.0814031 ],\n",
       "       [0.07938096],\n",
       "       [0.00200937]])"
      ]
     },
     "execution_count": 4,
     "metadata": {},
     "output_type": "execute_result"
    }
   ],
   "source": [
    "NOR = Logit_gate()\n",
    "\n",
    "x_nor = np.array([[0,0], [0,1], [1,0], [1,1]])\n",
    "y_nor = np.array([[1], [0], [0], [0]])\n",
    "\n",
    "NOR.fit(x_nor, y_nor)\n",
    "\n",
    "NOR.prediction(x_nor)"
   ]
  },
  {
   "cell_type": "code",
   "execution_count": 5,
   "metadata": {},
   "outputs": [
    {
     "data": {
      "text/plain": [
       "array([[0.99263202],\n",
       "       [0.85590849],\n",
       "       [0.85485142],\n",
       "       [0.20614331]])"
      ]
     },
     "execution_count": 5,
     "metadata": {},
     "output_type": "execute_result"
    }
   ],
   "source": [
    "NAND = Logit_gate()\n",
    "\n",
    "x_nand = np.array([[0,0], [0,1], [1,0], [1,1]])\n",
    "y_nand = np.array([[1], [1], [1], [0]])\n",
    "\n",
    "NAND.fit(x_nand, y_nand)\n",
    "\n",
    "NAND.prediction(x_nand)"
   ]
  },
  {
   "cell_type": "code",
   "execution_count": 9,
   "metadata": {},
   "outputs": [
    {
     "data": {
      "text/plain": [
       "array([[0.22827215],\n",
       "       [0.65647804],\n",
       "       [0.66012826],\n",
       "       [0.24728727]])"
      ]
     },
     "execution_count": 9,
     "metadata": {},
     "output_type": "execute_result"
    }
   ],
   "source": [
    "# XOR gate\n",
    "\n",
    "x = np.array([[0,0], [0,1], [1,0], [1,1]])\n",
    "\n",
    "x_by_nand = NAND.prediction(x)\n",
    "x_by_or = OR.prediction(x)\n",
    "\n",
    "# x_xor = np.concatenate((x_by_nand, x_by_or), axis=1).reshape(4,2)\n",
    "x_xor = np.array([x_by_nand, x_by_or]).T.reshape(-1, 2)\n",
    "\n",
    "AND.prediction(x_xor)"
   ]
  }
 ],
 "metadata": {
  "kernelspec": {
   "display_name": "Python 3",
   "language": "python",
   "name": "python3"
  },
  "language_info": {
   "codemirror_mode": {
    "name": "ipython",
    "version": 3
   },
   "file_extension": ".py",
   "mimetype": "text/x-python",
   "name": "python",
   "nbconvert_exporter": "python",
   "pygments_lexer": "ipython3",
   "version": "3.10.7"
  },
  "orig_nbformat": 4
 },
 "nbformat": 4,
 "nbformat_minor": 2
}
